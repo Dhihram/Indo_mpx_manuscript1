{
 "cells": [
  {
   "cell_type": "code",
   "execution_count": 31,
   "id": "fb207f83-8eaf-4eed-8e9b-70b7ebc04527",
   "metadata": {},
   "outputs": [
    {
     "data": {
      "text/plain": [
       "'C:\\\\Users\\\\lsh2202865\\\\Documents\\\\mpox\\\\treetime'"
      ]
     },
     "execution_count": 31,
     "metadata": {},
     "output_type": "execute_result"
    }
   ],
   "source": [
    "%pwd"
   ]
  },
  {
   "cell_type": "code",
   "execution_count": 33,
   "id": "ee0db500-52fc-47bc-8a89-1a97f3640df6",
   "metadata": {},
   "outputs": [],
   "source": [
    "import os\n",
    "\n",
    "# Change the working directory\n",
    "os.chdir(r'C:\\Users\\lsh2202865\\Documents\\mpox\\treetime')"
   ]
  },
  {
   "cell_type": "code",
   "execution_count": 35,
   "id": "3a1b54df-4766-4925-84e0-1e9cb2bf1215",
   "metadata": {},
   "outputs": [
    {
     "name": "stdout",
     "output_type": "stream",
     "text": [
      " Volume in drive C has no label.\n",
      " Volume Serial Number is 069A-D0AF\n",
      "\n",
      " Directory of C:\\Users\\lsh2202865\\Documents\\mpox\\treetime\n",
      "\n",
      "12/18/2024  08:21 AM    <DIR>          .\n",
      "12/18/2024  08:21 AM    <DIR>          ..\n",
      "12/18/2024  12:54 AM        17,747,853 aligned_fasta_sequences.fasta\n",
      "12/18/2024  08:18 AM        18,763,550 aligned_fasta_sequences2.fasta\n",
      "12/18/2024  01:01 AM             4,108 aligned_metadata.csv\n",
      "12/18/2024  08:20 AM             4,628 aligned_metadata2.csv\n",
      "12/17/2024  10:50 PM        17,177,970 asean_indo_aligned_mod.fasta\n",
      "12/17/2024  11:46 PM             5,288 mpox_asean_tempest.nwk\n",
      "12/18/2024  07:50 AM             5,170 mpox_asean_tempest3.nwk\n",
      "12/18/2024  12:05 AM             4,706 mpox_metadata.csv\n",
      "12/18/2024  08:02 AM             4,628 mpox_metadata2.csv\n",
      "12/18/2024  01:02 AM    <DIR>          mpox_timetree\n",
      "12/18/2024  12:24 AM        17,175,480 treetime_mpox.fasta\n",
      "12/18/2024  08:10 AM        18,717,140 treetime_mpox2.fasta\n",
      "              11 File(s)     89,610,521 bytes\n",
      "               3 Dir(s)  80,766,533,632 bytes free\n"
     ]
    }
   ],
   "source": [
    "ls"
   ]
  },
  {
   "cell_type": "code",
   "execution_count": 5,
   "id": "b97e0739-7b2b-457b-85b1-8596d6128b52",
   "metadata": {
    "scrolled": true
   },
   "outputs": [
    {
     "name": "stdout",
     "output_type": "stream",
     "text": [
      "Collecting phylo-treetime\n",
      "  Downloading phylo_treetime-0.11.4-py3-none-any.whl.metadata (13 kB)\n",
      "Collecting biopython!=1.77,!=1.78,>=1.67 (from phylo-treetime)\n",
      "  Downloading biopython-1.84-cp312-cp312-win_amd64.whl.metadata (13 kB)\n",
      "Requirement already satisfied: numpy>=1.10.4 in c:\\users\\lsh2202865\\appdata\\local\\anaconda3\\lib\\site-packages (from phylo-treetime) (1.26.4)\n",
      "Requirement already satisfied: pandas>=0.17.1 in c:\\users\\lsh2202865\\appdata\\local\\anaconda3\\lib\\site-packages (from phylo-treetime) (2.2.2)\n",
      "Requirement already satisfied: scipy>=0.16.1 in c:\\users\\lsh2202865\\appdata\\local\\anaconda3\\lib\\site-packages (from phylo-treetime) (1.13.1)\n",
      "Requirement already satisfied: matplotlib>=2.0 in c:\\users\\lsh2202865\\appdata\\local\\anaconda3\\lib\\site-packages (from phylo-treetime) (3.8.4)\n",
      "Requirement already satisfied: contourpy>=1.0.1 in c:\\users\\lsh2202865\\appdata\\local\\anaconda3\\lib\\site-packages (from matplotlib>=2.0->phylo-treetime) (1.2.0)\n",
      "Requirement already satisfied: cycler>=0.10 in c:\\users\\lsh2202865\\appdata\\local\\anaconda3\\lib\\site-packages (from matplotlib>=2.0->phylo-treetime) (0.11.0)\n",
      "Requirement already satisfied: fonttools>=4.22.0 in c:\\users\\lsh2202865\\appdata\\local\\anaconda3\\lib\\site-packages (from matplotlib>=2.0->phylo-treetime) (4.51.0)\n",
      "Requirement already satisfied: kiwisolver>=1.3.1 in c:\\users\\lsh2202865\\appdata\\local\\anaconda3\\lib\\site-packages (from matplotlib>=2.0->phylo-treetime) (1.4.4)\n",
      "Requirement already satisfied: packaging>=20.0 in c:\\users\\lsh2202865\\appdata\\local\\anaconda3\\lib\\site-packages (from matplotlib>=2.0->phylo-treetime) (23.2)\n",
      "Requirement already satisfied: pillow>=8 in c:\\users\\lsh2202865\\appdata\\local\\anaconda3\\lib\\site-packages (from matplotlib>=2.0->phylo-treetime) (10.3.0)\n",
      "Requirement already satisfied: pyparsing>=2.3.1 in c:\\users\\lsh2202865\\appdata\\local\\anaconda3\\lib\\site-packages (from matplotlib>=2.0->phylo-treetime) (3.0.9)\n",
      "Requirement already satisfied: python-dateutil>=2.7 in c:\\users\\lsh2202865\\appdata\\local\\anaconda3\\lib\\site-packages (from matplotlib>=2.0->phylo-treetime) (2.9.0.post0)\n",
      "Requirement already satisfied: pytz>=2020.1 in c:\\users\\lsh2202865\\appdata\\local\\anaconda3\\lib\\site-packages (from pandas>=0.17.1->phylo-treetime) (2024.1)\n",
      "Requirement already satisfied: tzdata>=2022.7 in c:\\users\\lsh2202865\\appdata\\local\\anaconda3\\lib\\site-packages (from pandas>=0.17.1->phylo-treetime) (2023.3)\n",
      "Requirement already satisfied: six>=1.5 in c:\\users\\lsh2202865\\appdata\\local\\anaconda3\\lib\\site-packages (from python-dateutil>=2.7->matplotlib>=2.0->phylo-treetime) (1.16.0)\n",
      "Downloading phylo_treetime-0.11.4-py3-none-any.whl (148 kB)\n",
      "   ---------------------------------------- 0.0/148.4 kB ? eta -:--:--\n",
      "   ---------------------------------------- 148.4/148.4 kB 8.6 MB/s eta 0:00:00\n",
      "Downloading biopython-1.84-cp312-cp312-win_amd64.whl (2.8 MB)\n",
      "   ---------------------------------------- 0.0/2.8 MB ? eta -:--:--\n",
      "   ---------------------------------------- 2.8/2.8 MB 59.2 MB/s eta 0:00:00\n",
      "Installing collected packages: biopython, phylo-treetime\n",
      "Successfully installed biopython-1.84 phylo-treetime-0.11.4\n",
      "Note: you may need to restart the kernel to use updated packages.\n"
     ]
    }
   ],
   "source": [
    "pip install phylo-treetime"
   ]
  },
  {
   "cell_type": "code",
   "execution_count": 47,
   "id": "828a3989-a882-4452-b752-4a1842134f6c",
   "metadata": {
    "scrolled": true
   },
   "outputs": [
    {
     "name": "stdout",
     "output_type": "stream",
     "text": [
      "\n",
      "Attempting to parse dates...\n",
      "\tUsing column 'name' as name. This needs match the taxon names in the tree!!\n",
      "\tUsing column 'date' as date.\n",
      "\n",
      "0.00\t-TreeAnc: set-up\n",
      "\n",
      "8.68\tTreeTime.reroot: with method or node: least-squares\n",
      "\n",
      "8.68\tTreeTime.reroot: rerooting will ignore covariance and shared ancestry.\n",
      "\n",
      "8.74\tTreeTime.reroot: with method or node: least-squares\n",
      "\n",
      "8.74\tTreeTime.reroot: rerooting will ignore covariance and shared ancestry.\n",
      "\n",
      "9.51\t###TreeTime.run: INITIAL ROUND\n",
      "\n",
      "11.38\tTreeTime.reroot: with method or node: least-squares\n",
      "\n",
      "11.38\tTreeTime.reroot: rerooting will ignore covariance and shared ancestry.\n",
      "\n",
      "11.44\t###TreeTime.run: rerunning timetree after rerooting\n",
      "\n",
      "13.60\t###TreeTime.run: ITERATION 1 out of 2 iterations\n",
      "\n",
      "13.60\tDEPRECATION WARNING. TreeTime.resolve_polytomies: You are resolving\n",
      "     \tpolytomies using the old 'greedy' mode. This is not well suited for large\n",
      "     \tpolytomies. Stochastic resolution will become the default in future\n",
      "     \tversions. To switch now, rerun with the flag `--stochastic-resolve`. To\n",
      "     \tkeep using the greedy method in the future, run with `--greedy-resolve`\n",
      "\n",
      "16.66\t###TreeTime.run: ITERATION 2 out of 2 iterations\n",
      "\n",
      "Inferred sequence evolution model (saved as mpox_timetree2/sequence_evolution_model.txt):\n",
      "Substitution rate (mu): 1.0\n",
      "\n",
      "Equilibrium frequencies (pi_i):\n",
      "  A: 0.3329\n",
      "  C: 0.1631\n",
      "  G: 0.1626\n",
      "  T: 0.3314\n",
      "  -: 0.0099\n",
      "\n",
      "Symmetrized rates from j->i (W_ij):\n",
      "\tA\tC\tG\tT\t-\n",
      "  A\t0\t0.0256\t1.1081\t0.0515\t95.5438\n",
      "  C\t0.0256\t0\t0.0301\t1.0178\t30.9819\n",
      "  G\t1.1081\t0.0301\t0\t0.0618\t33.5082\n",
      "  T\t0.0515\t1.0178\t0.0618\t0\t96.1607\n",
      "  -\t95.5438\t30.9819\t33.5082\t96.1607\t0\n",
      "\n",
      "Actual rates from j->i (Q_ij):\n",
      "\tA\tC\tG\tT\t-\n",
      "  A\t0\t0.0085\t0.3689\t0.0171\t31.8102\n",
      "  C\t0.0042\t0\t0.0049\t0.166\t5.0534\n",
      "  G\t0.1802\t0.0049\t0\t0.0101\t5.4491\n",
      "  T\t0.0171\t0.3373\t0.0205\t0\t31.8666\n",
      "  -\t0.9501\t0.3081\t0.3332\t0.9562\t0\n",
      "\n",
      "\n",
      "Inferred sequence evolution model (saved as mpox_timetree2/molecular_clock.txt):\n",
      "Root-Tip-Regression:\n",
      " --rate:\t1.343e-05\n",
      " --r^2:  \t0.04\n",
      "\n",
      "--- saved tree as \n",
      "\t mpox_timetree2/timetree.pdf\n",
      "\n",
      "--- root-to-tip plot saved to  \n",
      "\tmpox_timetree2/root_to_tip_regression.pdf\n",
      "\n",
      "--- alignment including ancestral nodes saved as  \n",
      "\t mpox_timetree2/ancestral_sequences.fasta\n",
      "\n",
      "--- saved divergence times in \n",
      "\t mpox_timetree2/dates.tsv\n",
      "\n",
      "--- tree saved in nexus format as  \n",
      "\t mpox_timetree2/timetree.nexus\n",
      "\n",
      "--- tree saved in auspice json format as  \n",
      "\t mpox_timetree2/auspice_tree.json\n",
      "\n",
      "--- divergence tree saved in nexus format as  \n",
      "\t mpox_timetree2/divergence_tree.nexus\n",
      "\n"
     ]
    }
   ],
   "source": [
    "!treetime --tree mpox_asean_tempest3.nwk --dates aligned_metadata2.csv --aln aligned_fasta_sequences2.fasta --outdir mpox_timetree2"
   ]
  }
 ],
 "metadata": {
  "kernelspec": {
   "display_name": "Python 3 (ipykernel)",
   "language": "python",
   "name": "python3"
  },
  "language_info": {
   "codemirror_mode": {
    "name": "ipython",
    "version": 3
   },
   "file_extension": ".py",
   "mimetype": "text/x-python",
   "name": "python",
   "nbconvert_exporter": "python",
   "pygments_lexer": "ipython3",
   "version": "3.12.4"
  }
 },
 "nbformat": 4,
 "nbformat_minor": 5
}
